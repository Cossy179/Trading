{
 "cells": [
  {
   "cell_type": "code",
   "execution_count": 1,
   "metadata": {},
   "outputs": [
    {
     "name": "stdout",
     "output_type": "stream",
     "text": [
      "Hourly BTC data saved to 'btc_hourly_data.csv'\n"
     ]
    }
   ],
   "source": [
    "import ccxt\n",
    "import datetime\n",
    "import csv\n",
    "\n",
    "# Initialize Binance API\n",
    "exchange = ccxt.binance()\n",
    "\n",
    "# Define the symbol and timeframe\n",
    "symbol = 'BTC/USDT'\n",
    "timeframe = '1h'\n",
    "\n",
    "# Fetch the OHLCV data\n",
    "ohlcv_data = exchange.fetch_ohlcv(symbol, timeframe)\n",
    "\n",
    "# Save the data as a CSV file\n",
    "with open('btc_hourly_data.csv', 'w', newline='') as csvfile:\n",
    "    csv_writer = csv.writer(csvfile)\n",
    "    csv_writer.writerow(['Date', 'Open', 'High', 'Low', 'Close', 'Volume'])\n",
    "\n",
    "    for data in ohlcv_data:\n",
    "        timestamp = data[0]\n",
    "        date = datetime.datetime.utcfromtimestamp(timestamp / 1000).strftime('%Y-%m-%d %H:%M:%S')\n",
    "        open_price = data[1]\n",
    "        high = data[2]\n",
    "        low = data[3]\n",
    "        close = data[4]\n",
    "        volume = data[5]\n",
    "\n",
    "        csv_writer.writerow([date, open_price, high, low, close, volume])\n",
    "\n",
    "print(\"Hourly BTC data saved to 'btc_hourly_data.csv'\")"
   ]
  },
  {
   "cell_type": "code",
   "execution_count": 2,
   "metadata": {},
   "outputs": [],
   "source": [
    "import requests\n",
    "import pandas as pd\n",
    "import datetime\n",
    "\n",
    "symbol = 'BTCUSDT'\n",
    "interval = '1h'\n",
    "url = f'https://api.binance.com/api/v3/klines?symbol={symbol}&interval={interval}&limit=1000'\n",
    "\n",
    "response = requests.get(url)\n",
    "data = response.json()\n",
    "\n",
    "btc_data = []\n",
    "for item in data:\n",
    "    timestamp, close_price, volume = item[:3]\n",
    "    btc_data.append([timestamp, close_price, volume])\n",
    "\n",
    "btc_df = pd.DataFrame(btc_data, columns=['timestamp', 'close', 'volume'])\n",
    "btc_df['timestamp'] = pd.to_datetime(btc_df['timestamp'], unit=\"ms\")\n",
    "btc_df.set_index('timestamp', inplace=True)\n",
    "\n",
    "# Save the data to a CSV file\n",
    "btc_df.to_csv('btc_hourly_prices.csv')"
   ]
  }
 ],
 "metadata": {
  "kernelspec": {
   "display_name": "Python 3",
   "language": "python",
   "name": "python3"
  },
  "language_info": {
   "codemirror_mode": {
    "name": "ipython",
    "version": 3
   },
   "file_extension": ".py",
   "mimetype": "text/x-python",
   "name": "python",
   "nbconvert_exporter": "python",
   "pygments_lexer": "ipython3",
   "version": "3.10.11"
  }
 },
 "nbformat": 4,
 "nbformat_minor": 2
}
